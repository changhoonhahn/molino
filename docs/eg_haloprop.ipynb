{
 "cells": [
  {
   "cell_type": "markdown",
   "metadata": {},
   "source": [
    "# Example: Halo Properties\n",
    "The Molino catalogs also include some host halo properties that can be easily accessed through the `molino` package"
   ]
  },
  {
   "cell_type": "code",
   "execution_count": 1,
   "metadata": {},
   "outputs": [],
   "source": [
    "import numpy as np \n",
    "from molino import GalaxyCatalog"
   ]
  },
  {
   "cell_type": "code",
   "execution_count": 2,
   "metadata": {},
   "outputs": [],
   "source": [
    "# -- plotting -- \n",
    "import matplotlib as mpl\n",
    "import matplotlib.pyplot as plt\n",
    "mpl.rcParams['text.usetex'] = True\n",
    "mpl.rcParams['font.family'] = 'serif'\n",
    "mpl.rcParams['axes.linewidth'] = 1.5\n",
    "mpl.rcParams['axes.xmargin'] = 1\n",
    "mpl.rcParams['xtick.labelsize'] = 'x-large'\n",
    "mpl.rcParams['xtick.major.size'] = 5\n",
    "mpl.rcParams['xtick.major.width'] = 1.5\n",
    "mpl.rcParams['ytick.labelsize'] = 'x-large'\n",
    "mpl.rcParams['ytick.major.size'] = 5\n",
    "mpl.rcParams['ytick.major.width'] = 1.5\n",
    "mpl.rcParams['legend.frameon'] = False"
   ]
  },
  {
   "cell_type": "markdown",
   "metadata": {},
   "source": [
    "# read Molino galaxy catalogs\n",
    "Lets read in 1 N-body relations and 1 HOD realizations at the `Mnu_p` cosmology in real-space with some host halo properties"
   ]
  },
  {
   "cell_type": "code",
   "execution_count": 3,
   "metadata": {},
   "outputs": [],
   "source": [
    "GalaxyCatalog?"
   ]
  },
  {
   "cell_type": "markdown",
   "metadata": {},
   "source": [
    "```\n",
    "columns : array_like[icol,]\n",
    "    Specify which properties of the galaxy you want included. The following\n",
    "    properties are available: \n",
    "        - positions [Mpc/h]: 'x', 'y', 'z'\n",
    "        - velocities [km/s]: 'vx', 'vy', 'vz'\n",
    "        - galaxy type*: 'gal_type' \n",
    "        - host halo positions [Mpc/h]: 'x_halo', 'y_halo', 'z_halo'\n",
    "        - host halo velocities [km/s]: 'vx_halo', 'vy_halo', 'vz_halo'\n",
    "        - halo virial mass [Msun/h]: 'm_halo'\n",
    "        - halo virial radius : 'r_halo'\n",
    "\n",
    "    * 0:central, 1:satellite\n",
    "```"
   ]
  },
  {
   "cell_type": "code",
   "execution_count": 4,
   "metadata": {},
   "outputs": [],
   "source": [
    "catalog = GalaxyCatalog(\n",
    "    'Mnu_p', # specify the cosmological and HOD parameters\n",
    "    i_nbody=1, # 1 n-body realization\n",
    "    i_hod=1, # 1 HOD realization\n",
    "    apply_rsd=False, # don't apply HOD\n",
    "    columns=['x', 'y', 'z', 'x_halo', 'y_halo', 'z_halo', 'gal_type', 'm_halo']\n",
    ")"
   ]
  },
  {
   "cell_type": "code",
   "execution_count": 5,
   "metadata": {},
   "outputs": [
    {
     "data": {
      "text/plain": [
       "(162407, 8)"
      ]
     },
     "execution_count": 5,
     "metadata": {},
     "output_type": "execute_result"
    }
   ],
   "source": [
    "catalog.shape"
   ]
  },
  {
   "cell_type": "code",
   "execution_count": 6,
   "metadata": {},
   "outputs": [
    {
     "data": {
      "text/plain": [
       "(0.0, 20.0)"
      ]
     },
     "execution_count": 6,
     "metadata": {},
     "output_type": "execute_result"
    },
    {
     "data": {
      "image/png": "[encoded data removed]",
      "text/plain": [
       "<Figure size 720x720 with 1 Axes>"
      ]
     },
     "metadata": {
      "needs_background": "light"
     },
     "output_type": "display_data"
    }
   ],
   "source": [
    "fig = plt.figure(figsize=(10,10))\n",
    "sub = fig.add_subplot(111)\n",
    "sub.scatter(catalog[:,3], catalog[:,4], s=catalog[:,-1]/1e13, c='C1')\n",
    "\n",
    "centrals = (catalog[:,6] == 0)\n",
    "satellites = (catalog[:,6] == 1)\n",
    "sub.scatter(catalog[:,0][centrals], catalog[:,1][centrals], s=1, c='k')\n",
    "sub.scatter(catalog[:,0][satellites], catalog[:,1][satellites], s=10, c='k', marker='x')\n",
    "sub.set_xlabel('x', fontsize=25)\n",
    "sub.set_xlim(0., 20)\n",
    "sub.set_ylabel('y', fontsize=25)\n",
    "sub.set_ylim(0., 20)"
   ]
  },
  {
   "cell_type": "code",
   "execution_count": null,
   "metadata": {},
   "outputs": [],
   "source": []
  }
 ],
 "metadata": {
  "kernelspec": {
   "display_name": "Python 3",
   "language": "python",
   "name": "python3"
  },
  "language_info": {
   "codemirror_mode": {
    "name": "ipython",
    "version": 3
   },
   "file_extension": ".py",
   "mimetype": "text/x-python",
   "name": "python",
   "nbconvert_exporter": "python",
   "pygments_lexer": "ipython3",
   "version": "3.7.7"
  }
 },
 "nbformat": 4,
 "nbformat_minor": 4
}
